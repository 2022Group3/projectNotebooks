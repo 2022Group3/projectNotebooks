{
  "nbformat": 4,
  "nbformat_minor": 0,
  "metadata": {
    "colab": {
      "name": "analyze_our_image_format_square.ipynb",
      "provenance": [],
      "authorship_tag": "ABX9TyO55N5OocHVVpvSmVt3ADzt",
      "include_colab_link": true
    },
    "kernelspec": {
      "name": "python3",
      "display_name": "Python 3"
    },
    "language_info": {
      "name": "python"
    }
  },
  "cells": [
    {
      "cell_type": "markdown",
      "metadata": {
        "id": "view-in-github",
        "colab_type": "text"
      },
      "source": [
        "<a href=\"https://colab.research.google.com/github/2022Group3/projectNotebooks/blob/main/analyze_our_image_format_square.ipynb\" target=\"_parent\"><img src=\"https://colab.research.google.com/assets/colab-badge.svg\" alt=\"Open In Colab\"/></a>"
      ]
    },
    {
      "cell_type": "code",
      "execution_count": 34,
      "metadata": {
        "id": "QuFvqs0m0q-4"
      },
      "outputs": [],
      "source": [
        "from keras.models import load_model\n",
        "import numpy as np\n",
        "import sys\n",
        "import tensorflow as tf\n",
        "from matplotlib import pyplot as plt\n",
        "from keras.datasets import cifar10\n",
        "from tensorflow.keras.utils import to_categorical\n",
        "from keras.models import Sequential\n",
        "from keras.layers import Conv2D\n",
        "from keras.layers import MaxPooling2D\n",
        "from keras.layers import Dense\n",
        "from keras.layers import Flatten\n",
        "from tensorflow.keras.optimizers import SGD\n",
        "from keras.preprocessing.image import ImageDataGenerator\n",
        "from keras.layers import Dropout\n",
        "from keras.layers import BatchNormalization\n",
        "from sklearn.metrics import confusion_matrix, classification_report\n",
        "import pandas as pd\n",
        "from PIL import Image\n",
        "import cv2\n",
        "#from ctypes.wintypes import RGB\n",
        "\n",
        "from PIL import ImageOps, Image\n",
        "\n"
      ]
    },
    {
      "cell_type": "code",
      "source": [
        "from google.colab import drive\n",
        "drive.mount('/content/drive')"
      ],
      "metadata": {
        "colab": {
          "base_uri": "https://localhost:8080/"
        },
        "id": "8fKfDNws0s-v",
        "outputId": "f68092fd-e9a0-41a8-ce8a-203ed9d0288d"
      },
      "execution_count": 35,
      "outputs": [
        {
          "output_type": "stream",
          "name": "stdout",
          "text": [
            "Drive already mounted at /content/drive; to attempt to forcibly remount, call drive.mount(\"/content/drive\", force_remount=True).\n"
          ]
        }
      ]
    },
    {
      "cell_type": "code",
      "source": [
        "model=load_model(r'drive/MyDrive/new_model.h5')\n",
        "# csv_data= pd.read_csv(r'drive/MyDrive/data.csv')"
      ],
      "metadata": {
        "id": "RRoVRL5l0ugx"
      },
      "execution_count": 36,
      "outputs": []
    },
    {
      "cell_type": "code",
      "source": [
        "def load_dataset():\n",
        "  data=np.load(r'drive/MyDrive/our_image_analyze.npz',allow_pickle=True)\n",
        "  data=dict(zip((\"{}\".format(k) for k in data),(data[k] for k in data)))\n",
        "  testX=data['test']\n",
        "  testy=data['ytest']\n",
        "  return testX,to_categorical(testy)"
      ],
      "metadata": {
        "id": "iul5pnIi0yId"
      },
      "execution_count": 154,
      "outputs": []
    },
    {
      "cell_type": "code",
      "source": [
        "# scale pixels\n",
        "def prep_pixels(testX):\n",
        "  # convert from integers to floats\n",
        "  testX_norm = testX.astype('float32')\n",
        "  # normalize to range 0-1\n",
        "  testX_norm = testX_norm / 255.0\n",
        "  \n",
        "  # return normalized images\n",
        "  return testX_norm"
      ],
      "metadata": {
        "id": "FklR39cG04oR"
      },
      "execution_count": 168,
      "outputs": []
    },
    {
      "cell_type": "code",
      "source": [
        "testX,testy=load_dataset()"
      ],
      "metadata": {
        "id": "LHOQ8U5304rB"
      },
      "execution_count": 171,
      "outputs": []
    },
    {
      "cell_type": "code",
      "source": [
        "def square_img(image):\n",
        "  #print(\"convert_image_to_square\")\n",
        "  #image= Image.open(image_path)\n",
        "  #print(\"a\")\n",
        "  #image=cv2.imread(image_path)\n",
        "  h = image.shape[0]\n",
        "  w = image.shape[1]\n",
        "  border_top=0\n",
        "  border_bottom=0\n",
        "  border_right=0\n",
        "  border_left=0\n",
        "  if h < w:\n",
        "      border_top=(w-h)//2\n",
        "      border_bottom=border_top\n",
        "  else:\n",
        "      border_left=(h-w)//2\n",
        "      border_right=border_left\n",
        "  \n",
        "  image=cv2.copyMakeBorder(image, border_top, border_bottom, border_left, border_right, cv2.BORDER_CONSTANT, None, value=(240, 240, 240))\n",
        "  image=cv2.resize(image,(32,32), interpolation = cv2.INTER_AREA)\n",
        "  return image\n"
      ],
      "metadata": {
        "id": "cWKEpWzv04xS"
      },
      "execution_count": 157,
      "outputs": []
    },
    {
      "cell_type": "code",
      "source": [
        "stretch=[]\n",
        "ratio=[]\n",
        "for img in testX:\n",
        "  img1=cv2.resize(img,(32,32), interpolation = cv2.INTER_AREA)\n",
        "  stretch.append(img1)\n",
        "  img2=square_img(img)\n",
        "  ratio.append(img2)\n"
      ],
      "metadata": {
        "id": "yQQSzo2xRU3J"
      },
      "execution_count": 161,
      "outputs": []
    },
    {
      "cell_type": "code",
      "source": [
        "stretch_norm=prep_pixels(np.array(stretch))\n",
        "ratio_norm=prep_pixels(np.array(ratio))"
      ],
      "metadata": {
        "id": "l7L2vttiUp6z"
      },
      "execution_count": null,
      "outputs": []
    },
    {
      "cell_type": "code",
      "source": [
        "_, acc = model.evaluate(stretch_norm, testy, verbose=1)"
      ],
      "metadata": {
        "colab": {
          "base_uri": "https://localhost:8080/"
        },
        "id": "RBK908NND7Sh",
        "outputId": "69713ce7-87bd-4871-dfe1-80ad96e58506"
      },
      "execution_count": 170,
      "outputs": [
        {
          "output_type": "stream",
          "name": "stdout",
          "text": [
            "2/2 [==============================] - 0s 66ms/step - loss: 1.0916 - accuracy: 0.6557\n"
          ]
        }
      ]
    },
    {
      "cell_type": "code",
      "source": [
        "_,acc=model.evaluate(ratio_norm,testy,verbose=1)"
      ],
      "metadata": {
        "colab": {
          "base_uri": "https://localhost:8080/"
        },
        "id": "0--uKy_v7Fkv",
        "outputId": "0822ff32-ac63-431a-971b-71fdbf35dc1e"
      },
      "execution_count": 172,
      "outputs": [
        {
          "output_type": "stream",
          "name": "stdout",
          "text": [
            "2/2 [==============================] - 0s 63ms/step - loss: 1.5223 - accuracy: 0.5246\n"
          ]
        }
      ]
    },
    {
      "cell_type": "code",
      "source": [
        ""
      ],
      "metadata": {
        "id": "iYzQTivmDoPU"
      },
      "execution_count": null,
      "outputs": []
    }
  ]
}